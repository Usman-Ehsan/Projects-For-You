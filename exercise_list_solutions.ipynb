{
 "cells": [
  {
   "cell_type": "code",
   "execution_count": 48,
   "metadata": {},
   "outputs": [
    {
     "name": "stdout",
     "output_type": "stream",
     "text": [
      "Ahmed\n",
      "Haroon\n",
      "Husnain\n",
      "Mani\n"
     ]
    }
   ],
   "source": [
    "#Names\n",
    "names = [\"Ahmed\", \"Haroon\", \"Husnain\", \"Mani\"]\n",
    "for name in names:\n",
    "    print(name)"
   ]
  },
  {
   "cell_type": "code",
   "execution_count": 49,
   "metadata": {},
   "outputs": [
    {
     "name": "stdout",
     "output_type": "stream",
     "text": [
      "Hello, Ahmed! I hope you're doing well.\n",
      "Hello, Haroon! I hope you're doing well.\n",
      "Hello, Husnain! I hope you're doing well.\n",
      "Hello, Mani! I hope you're doing well.\n"
     ]
    }
   ],
   "source": [
    "#Greetings\n",
    "names = [\"Ahmed\", \"Haroon\", \"Husnain\", \"Mani\"]\n",
    "for name in names:\n",
    "    print(f\"Hello, {name}! I hope you're doing well.\")"
   ]
  },
  {
   "cell_type": "code",
   "execution_count": 6,
   "metadata": {},
   "outputs": [
    {
     "name": "stdout",
     "output_type": "stream",
     "text": [
      "I wanna own Ducatti motorcycle\n",
      "I wanna own Kawasaki Ninja H2R motorcycle\n",
      "I wanna own BMW RR motorcycle\n",
      "I wanna own Honda motorcycle\n",
      "I wanna own Harley Davidson motorcycle\n"
     ]
    }
   ],
   "source": [
    "#Your own list\n",
    "motorcycles = [\"Ducatti\",\"Kawasaki Ninja H2R\",\"BMW RR\",\"Honda\",\"Harley Davidson\"]\n",
    "for motorcycle in motorcycles:\n",
    "    print(f\"I wanna own {motorcycle} motorcycle\") "
   ]
  },
  {
   "cell_type": "code",
   "execution_count": 26,
   "metadata": {},
   "outputs": [
    {
     "name": "stdout",
     "output_type": "stream",
     "text": [
      "Dear Husnain Sulehri, I would be honored if you could join me for dinner.Sincerely, [Usman Sulehri]\n",
      "Dear Haroon Bhatti, I would be honored if you could join me for dinner.Sincerely, [Usman Sulehri]\n",
      "Dear Ahmed Khawaja, I would be honored if you could join me for dinner.Sincerely, [Usman Sulehri]\n",
      "Dear Mani Ansari, I would be honored if you could join me for dinner.Sincerely, [Usman Sulehri]\n",
      "Unfortunately, Ahmed Khawaja can't make it to dinner.\n",
      "Dear Husnain Sulehri, I would be honored if you could join me for dinner.Sincerely, [Usman Sulehri]\n",
      "Dear Haroon Bhatti, I would be honored if you could join me for dinner.Sincerely, [Usman Sulehri]\n",
      "Dear Khawaja, I would be honored if you could join me for dinner.Sincerely, [Usman Sulehri]\n",
      "Dear Mani Ansari, I would be honored if you could join me for dinner.Sincerely, [Usman Sulehri]\n",
      "Good news! I just found a bigger table, so I can invite more guests!\n",
      "Dear Saad, I would be honored if you could join me for dinner.Sincerely, [Usman Sulehri]\n",
      "Dear Husnain Sulehri, I would be honored if you could join me for dinner.Sincerely, [Usman Sulehri]\n",
      "Dear Haroon Bhatti, I would be honored if you could join me for dinner.Sincerely, [Usman Sulehri]\n",
      "Dear Shoaib Ashraf, I would be honored if you could join me for dinner.Sincerely, [Usman Sulehri]\n",
      "Dear Khawaja, I would be honored if you could join me for dinner.Sincerely, [Usman Sulehri]\n",
      "Dear Mani Ansari, I would be honored if you could join me for dinner.Sincerely, [Usman Sulehri]\n",
      "Dear Zain Ahmed, I would be honored if you could join me for dinner.Sincerely, [Usman Sulehri]\n",
      "Sorry, I can only invite two people for dinner.\n",
      "Sorry, Zain Ahmed, I can't invite you to dinner.\n",
      "Sorry, Mani Ansari, I can't invite you to dinner.\n",
      "Sorry, Khawaja, I can't invite you to dinner.\n",
      "Sorry, Shoaib Ashraf, I can't invite you to dinner.\n",
      "Sorry, Haroon Bhatti, I can't invite you to dinner.\n",
      "Dear Saad, you're still invited to dinner!\n",
      "Dear Husnain Sulehri, you're still invited to dinner!\n",
      "[]\n"
     ]
    }
   ],
   "source": [
    "#Guest (3-4 , 3-5 , 3-6 , 3-7)\n",
    "guests = [\"Husnain Sulehri\", \"Haroon Bhatti\", \"Ahmed Khawaja\", \"Mani Ansari\"]\n",
    "for guest in guests:\n",
    "    print(f\"Dear {guest}, I would be honored if you could join me for dinner.Sincerely, [Usman Sulehri]\")\n",
    "print(\"Unfortunately, Ahmed Khawaja can't make it to dinner.\")\n",
    "guests[2] = \"Khawaja\"\n",
    "for guest in guests:\n",
    "    print(f\"Dear {guest}, I would be honored if you could join me for dinner.Sincerely, [Usman Sulehri]\")\n",
    "print(\"Good news! I just found a bigger table, so I can invite more guests!\")\n",
    "guests.insert(0, \"Saad\")\n",
    "guests.insert(3, \"Shoaib Ashraf\")\n",
    "guests.append(\"Zain Ahmed\")\n",
    "for guest in guests:\n",
    "    print(f\"Dear {guest}, I would be honored if you could join me for dinner.Sincerely, [Usman Sulehri]\")\n",
    "print(\"Sorry, I can only invite two people for dinner.\")\n",
    "while len(guests) > 2:\n",
    "    removed_guest = guests.pop()\n",
    "    print(f\"Sorry, {removed_guest}, I can't invite you to dinner.\")\n",
    "for guest in guests:\n",
    "    print(f\"Dear {guest}, you're still invited to dinner!\")\n",
    "\n",
    "del guests[0]\n",
    "del guests[0]\n",
    "print(guests)    "
   ]
  },
  {
   "cell_type": "code",
   "execution_count": 36,
   "metadata": {},
   "outputs": [
    {
     "name": "stdout",
     "output_type": "stream",
     "text": [
      "Original list: ['Tokyo', 'New York', 'Paris', 'Thailand', 'Bangkok', 'Spain', 'London']\n",
      "Alphabetical order: ['Bangkok', 'London', 'New York', 'Paris', 'Spain', 'Thailand', 'Tokyo']\n",
      "Original list is still: ['Tokyo', 'New York', 'Paris', 'Thailand', 'Bangkok', 'Spain', 'London']\n",
      "Reverse-alphabetical order: ['Tokyo', 'Thailand', 'Spain', 'Paris', 'New York', 'London', 'Bangkok']\n",
      "Original list is still: ['Tokyo', 'New York', 'Paris', 'Thailand', 'Bangkok', 'Spain', 'London']\n",
      "Reversed list: ['London', 'Spain', 'Bangkok', 'Thailand', 'Paris', 'New York', 'Tokyo']\n",
      "Original list is back: ['Tokyo', 'New York', 'Paris', 'Thailand', 'Bangkok', 'Spain', 'London']\n",
      "Alphabetical order: ['Bangkok', 'London', 'New York', 'Paris', 'Spain', 'Thailand', 'Tokyo']\n",
      "Reverse-alphabetical order: ['Tokyo', 'Thailand', 'Spain', 'Paris', 'New York', 'London', 'Bangkok']\n"
     ]
    }
   ],
   "source": [
    "#Seeing the World\n",
    "places = [\"Tokyo\", \"New York\", \"Paris\", \"Thailand\", \"Bangkok\", \"Spain\", \"London\"]\n",
    "print(\"Original list:\", places)\n",
    "print(\"Alphabetical order:\", sorted(places))\n",
    "print(\"Original list is still:\", places)\n",
    "print(\"Reverse-alphabetical order:\", sorted(places, reverse=True))\n",
    "print(\"Original list is still:\", places)\n",
    "places.reverse()\n",
    "print(\"Reversed list:\", places)\n",
    "places.reverse()\n",
    "print(\"Original list is back:\", places)\n",
    "places.sort()\n",
    "print(\"Alphabetical order:\", places)\n",
    "places.sort(reverse=True)\n",
    "print(\"Reverse-alphabetical order:\", places)"
   ]
  },
  {
   "cell_type": "code",
   "execution_count": 39,
   "metadata": {},
   "outputs": [
    {
     "name": "stdout",
     "output_type": "stream",
     "text": [
      "Original list: ['Tokyo', 'New York', 'Paris', 'Thailand', 'Bangkok', 'Spain', 'London']\n",
      "Index of Paris: 2\n",
      "List after appending Moscow: ['Tokyo', 'New York', 'Paris', 'Thailand', 'Bangkok', 'Spain', 'London', 'Moscow']\n",
      "List after inserting Shanghai: ['Tokyo', 'New York', 'Shanghai', 'Paris', 'Thailand', 'Bangkok', 'Spain', 'London', 'Moscow']\n",
      "List after removing London: ['Tokyo', 'New York', 'Shanghai', 'Paris', 'Thailand', 'Bangkok', 'Spain', 'Moscow']\n",
      "List in alphabetical order: ['Bangkok', 'Moscow', 'New York', 'Paris', 'Shanghai', 'Spain', 'Thailand', 'Tokyo']\n",
      "List in reverse order: ['Tokyo', 'Thailand', 'Spain', 'Shanghai', 'Paris', 'New York', 'Moscow', 'Bangkok']\n",
      "Length of the list: 8\n",
      "Last city: Bangkok\n",
      "List after popping last city: ['Tokyo', 'Thailand', 'Spain', 'Shanghai', 'Paris', 'New York', 'Moscow']\n",
      "List after deleting city at index 2: ['Tokyo', 'Thailand', 'Shanghai', 'Paris', 'New York', 'Moscow']\n",
      "List in reverse alphabetical order: ['Tokyo', 'Thailand', 'Shanghai', 'Paris', 'New York', 'Moscow']\n",
      "Shortest city: Tokyo\n",
      "Longest city: Thailand\n"
     ]
    }
   ],
   "source": [
    "#Every Function\n",
    "cities = [\"Tokyo\", \"New York\", \"Paris\", \"Thailand\", \"Bangkok\", \"Spain\", \"London\"]\n",
    "print(\"Original list:\", cities)\n",
    "index = cities.index(\"Paris\")\n",
    "print(\"Index of Paris:\", index)\n",
    "cities.append(\"Moscow\")\n",
    "print(\"List after appending Moscow:\", cities)\n",
    "cities.insert(2, \"Shanghai\")\n",
    "print(\"List after inserting Shanghai:\", cities)\n",
    "cities.remove(\"London\")\n",
    "print(\"List after removing London:\", cities)\n",
    "cities.sort()\n",
    "print(\"List in alphabetical order:\", cities)\n",
    "cities.reverse()\n",
    "print(\"List in reverse order:\", cities)\n",
    "length = len(cities)\n",
    "print(\"Length of the list:\", length)\n",
    "last_city = cities.pop()\n",
    "print(\"Last city:\", last_city)\n",
    "print(\"List after popping last city:\", cities)\n",
    "del cities[2]\n",
    "print(\"List after deleting city at index 2:\", cities)\n",
    "sorted_cities = sorted(cities, reverse=True)\n",
    "print(\"List in reverse alphabetical order:\", sorted_cities)\n",
    "shortest_city = min(cities, key=len)\n",
    "longest_city = max(cities, key=len)\n",
    "print(\"Shortest city:\", shortest_city)\n",
    "print(\"Longest city:\", longest_city)"
   ]
  },
  {
   "cell_type": "code",
   "execution_count": 47,
   "metadata": {},
   "outputs": [
    {
     "ename": "IndexError",
     "evalue": "list index out of range",
     "output_type": "error",
     "traceback": [
      "\u001b[1;31m---------------------------------------------------------------------------\u001b[0m",
      "\u001b[1;31mIndexError\u001b[0m                                Traceback (most recent call last)",
      "Cell \u001b[1;32mIn[47], line 3\u001b[0m\n\u001b[0;32m      1\u001b[0m \u001b[38;5;66;03m#Intentional Error\u001b[39;00m\n\u001b[0;32m      2\u001b[0m numbers \u001b[38;5;241m=\u001b[39m [\u001b[38;5;241m1\u001b[39m, \u001b[38;5;241m2\u001b[39m, \u001b[38;5;241m3\u001b[39m, \u001b[38;5;241m4\u001b[39m, \u001b[38;5;241m5\u001b[39m]\n\u001b[1;32m----> 3\u001b[0m \u001b[38;5;28mprint\u001b[39m(\u001b[43mnumbers\u001b[49m\u001b[43m[\u001b[49m\u001b[38;5;241;43m5\u001b[39;49m\u001b[43m]\u001b[49m)\n\u001b[0;32m      4\u001b[0m \u001b[38;5;28mprint\u001b[39m(numbers[\u001b[38;5;241m10\u001b[39m])\n",
      "\u001b[1;31mIndexError\u001b[0m: list index out of range"
     ]
    }
   ],
   "source": [
    "#Intentional Error\n",
    "numbers = [1, 2, 3, 4, 5]\n",
    "print(numbers[5])\n",
    "print(numbers[10])"
   ]
  }
 ],
 "metadata": {
  "kernelspec": {
   "display_name": "Python 3",
   "language": "python",
   "name": "python3"
  },
  "language_info": {
   "codemirror_mode": {
    "name": "ipython",
    "version": 3
   },
   "file_extension": ".py",
   "mimetype": "text/x-python",
   "name": "python",
   "nbconvert_exporter": "python",
   "pygments_lexer": "ipython3",
   "version": "3.12.4"
  }
 },
 "nbformat": 4,
 "nbformat_minor": 2
}
